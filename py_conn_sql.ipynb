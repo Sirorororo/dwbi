{
 "cells": [
  {
   "cell_type": "code",
   "execution_count": 4,
   "metadata": {},
   "outputs": [
    {
     "name": "stdout",
     "output_type": "stream",
     "text": [
      "Successfully connected to MySQL!\n"
     ]
    }
   ],
   "source": [
    "import mysql.connector\n",
    "\n",
    "# Connection details\n",
    "config = {\n",
    "    'host': 'localhost',\n",
    "    'port':3306,      \n",
    "    'user': 'root',  \n",
    "    'password': 'rd269TWIN#',  \n",
    "    'database': 'dwbi'   \n",
    "}\n",
    "\n",
    "# Establish connection\n",
    "try:\n",
    "    connection = mysql.connector.connect(**config)\n",
    "    if connection.is_connected():\n",
    "        print(\"Successfully connected to MySQL!\")\n",
    "        \n",
    "except mysql.connector.Error as e:\n",
    "    print(f\"Error connecting to MySQL: {e}\")\n"
   ]
  },
  {
   "cell_type": "code",
   "execution_count": 5,
   "metadata": {},
   "outputs": [],
   "source": [
    "create_table_query = \"\"\"\n",
    "        CREATE TABLE students (\n",
    "            id INT AUTO_INCREMENT PRIMARY KEY,\n",
    "            name VARCHAR(255) NOT NULL,\n",
    "            age INT NOT NULL,\n",
    "            gender ENUM('Male', 'Female', 'Other') NOT NULL,\n",
    "            created_at TIMESTAMP DEFAULT CURRENT_TIMESTAMP\n",
    "        );\n",
    "    \"\"\"\n",
    "\n",
    "cursor = connection.cursor()\n",
    "cursor.execute(create_table_query)  "
   ]
  },
  {
   "cell_type": "code",
   "execution_count": 7,
   "metadata": {},
   "outputs": [],
   "source": [
    "insert_query = \"\"\"\n",
    "        INSERT INTO students (name, age, gender)\n",
    "        VALUES\n",
    "            ('John Doe', 20, 'Male'),\n",
    "            ('Jane Smith', 22, 'Female'),\n",
    "            ('Alex Johnson', 19, 'Other'),\n",
    "            ('Emily Davis', 21, 'Female');\n",
    "\"\"\"\n",
    "cursor.execute(insert_query)\n",
    "connection.commit()"
   ]
  },
  {
   "cell_type": "code",
   "execution_count": 9,
   "metadata": {},
   "outputs": [],
   "source": [
    "import pandas as pd"
   ]
  },
  {
   "cell_type": "code",
   "execution_count": 10,
   "metadata": {},
   "outputs": [
    {
     "name": "stderr",
     "output_type": "stream",
     "text": [
      "C:\\Users\\achar\\AppData\\Local\\Temp\\ipykernel_8036\\3491497116.py:4: UserWarning: pandas only supports SQLAlchemy connectable (engine/connection) or database string URI or sqlite3 DBAPI2 connection. Other DBAPI2 objects are not tested. Please consider using SQLAlchemy.\n",
      "  df = pd.read_sql(select_query,connection)\n"
     ]
    },
    {
     "data": {
      "text/html": [
       "<div>\n",
       "<style scoped>\n",
       "    .dataframe tbody tr th:only-of-type {\n",
       "        vertical-align: middle;\n",
       "    }\n",
       "\n",
       "    .dataframe tbody tr th {\n",
       "        vertical-align: top;\n",
       "    }\n",
       "\n",
       "    .dataframe thead th {\n",
       "        text-align: right;\n",
       "    }\n",
       "</style>\n",
       "<table border=\"1\" class=\"dataframe\">\n",
       "  <thead>\n",
       "    <tr style=\"text-align: right;\">\n",
       "      <th></th>\n",
       "      <th>id</th>\n",
       "      <th>name</th>\n",
       "      <th>age</th>\n",
       "      <th>gender</th>\n",
       "      <th>created_at</th>\n",
       "    </tr>\n",
       "  </thead>\n",
       "  <tbody>\n",
       "    <tr>\n",
       "      <th>0</th>\n",
       "      <td>1</td>\n",
       "      <td>John Doe</td>\n",
       "      <td>20</td>\n",
       "      <td>Male</td>\n",
       "      <td>2024-12-21 21:21:27</td>\n",
       "    </tr>\n",
       "    <tr>\n",
       "      <th>1</th>\n",
       "      <td>2</td>\n",
       "      <td>Jane Smith</td>\n",
       "      <td>22</td>\n",
       "      <td>Female</td>\n",
       "      <td>2024-12-21 21:21:27</td>\n",
       "    </tr>\n",
       "    <tr>\n",
       "      <th>2</th>\n",
       "      <td>3</td>\n",
       "      <td>Alex Johnson</td>\n",
       "      <td>19</td>\n",
       "      <td>Other</td>\n",
       "      <td>2024-12-21 21:21:27</td>\n",
       "    </tr>\n",
       "    <tr>\n",
       "      <th>3</th>\n",
       "      <td>4</td>\n",
       "      <td>Emily Davis</td>\n",
       "      <td>21</td>\n",
       "      <td>Female</td>\n",
       "      <td>2024-12-21 21:21:27</td>\n",
       "    </tr>\n",
       "    <tr>\n",
       "      <th>4</th>\n",
       "      <td>5</td>\n",
       "      <td>John Doe</td>\n",
       "      <td>20</td>\n",
       "      <td>Male</td>\n",
       "      <td>2024-12-21 21:21:43</td>\n",
       "    </tr>\n",
       "  </tbody>\n",
       "</table>\n",
       "</div>"
      ],
      "text/plain": [
       "   id          name  age  gender          created_at\n",
       "0   1      John Doe   20    Male 2024-12-21 21:21:27\n",
       "1   2    Jane Smith   22  Female 2024-12-21 21:21:27\n",
       "2   3  Alex Johnson   19   Other 2024-12-21 21:21:27\n",
       "3   4   Emily Davis   21  Female 2024-12-21 21:21:27\n",
       "4   5      John Doe   20    Male 2024-12-21 21:21:43"
      ]
     },
     "execution_count": 10,
     "metadata": {},
     "output_type": "execute_result"
    }
   ],
   "source": [
    "select_query = \"\"\"\n",
    "    SELECT * FROM students\n",
    "\"\"\"\n",
    "df = pd.read_sql(select_query,connection)\n",
    "df.head()"
   ]
  },
  {
   "cell_type": "code",
   "execution_count": 11,
   "metadata": {},
   "outputs": [],
   "source": [
    "df.to_csv(\"select_result.csv\")"
   ]
  },
  {
   "cell_type": "code",
   "execution_count": null,
   "metadata": {},
   "outputs": [],
   "source": []
  }
 ],
 "metadata": {
  "kernelspec": {
   "display_name": "myenv",
   "language": "python",
   "name": "python3"
  },
  "language_info": {
   "codemirror_mode": {
    "name": "ipython",
    "version": 3
   },
   "file_extension": ".py",
   "mimetype": "text/x-python",
   "name": "python",
   "nbconvert_exporter": "python",
   "pygments_lexer": "ipython3",
   "version": "3.13.0"
  }
 },
 "nbformat": 4,
 "nbformat_minor": 2
}
